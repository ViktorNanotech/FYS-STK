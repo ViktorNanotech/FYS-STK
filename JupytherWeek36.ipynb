{
 "cells": [
  {
   "cell_type": "markdown",
   "id": "9dd8f8d0",
   "metadata": {},
   "source": [
    "# Exercises week 36\n",
    "\n",
    "## Deriving and Implementing Ridge Regression"
   ]
  },
  {
   "cell_type": "markdown",
   "id": "e5cc5739",
   "metadata": {},
   "source": [
    "## Learning goals\n",
    "\n",
    "After completing these exercises, you will know how to\n",
    "- Take more derivatives of simple products between vectors and matrices\n",
    "- Implement Ridge regression using the analytical expressions\n",
    "- Scale data appropriately for linear regression\n",
    "- Evaluate a model across two different hyperparameters"
   ]
  },
  {
   "cell_type": "markdown",
   "id": "427d9b9d",
   "metadata": {},
   "source": [
    "## Exercise 1 - Choice of model and degrees of freedom"
   ]
  },
  {
   "cell_type": "markdown",
   "id": "ff6ebdb5",
   "metadata": {},
   "source": [
    "**a)** How many degrees of freedom does an OLS model fit to the features $x, x^2, x^3$ and the intercept have?\n",
    "\n",
    "A: It has four degrees of freedom.\n",
    "\n",
    "**b)** Why is it bad for a model to have too many degrees of freedom?\n",
    "\n",
    "A: Because it adds complexity to the point where alot of datapoint are needed to make a good fit. Generally dont want to capture the noise in the data. Overfitting.\n",
    "\n",
    "**c)** Why is it bad for a model to have too few degrees of freedom?\n",
    "\n",
    "A: Because then you can end up having a model that does not accurately fits the data, too low resolution. Underfitting.\n",
    "\n",
    "**d)** Read [chapter 3.4.1 of Hastie et al.'s book](https://link.springer.com/book/10.1007/978-0-387-84858-7). What is the expression for the effective degrees of freedom of the ridge regression fit?\n",
    "\n",
    "A: $$df(\\lambda) = \\sum_{j=1}^{p} \\frac{d_j^2}{d_j^2 + \\lambda}$$\n",
    "\n",
    "**e)** Why might we want to use Ridge regression instead of OLS?\n",
    "\n",
    "A: In cases where the variables are higly corelated or the model require high dimentionality we might want to use Ridge due to its L2 penalization feature. This shrinks the coefficients, avoiding instability.\n",
    "\n",
    "**f)** Why migth we want to use OLS instead of Ridge regression?\n",
    "\n",
    "A: When we have no significant multicollinearity it is no need to introduce an unnecessary bias. "
   ]
  },
  {
   "cell_type": "markdown",
   "id": "332e67d4",
   "metadata": {},
   "source": []
  },
  {
   "cell_type": "markdown",
   "id": "a78b2ce2",
   "metadata": {},
   "source": [
    "## Exercise 2 - Deriving the expression for Ridge Regression\n",
    "\n",
    "The aim here is to derive the expression for the optimal parameters using Ridge regression.\n",
    "\n",
    "The expression for the standard Mean Squared Error (MSE) which we used to define our cost function and the equations for the ordinary least squares (OLS) method, was given by the optimization problem"
   ]
  },
  {
   "cell_type": "markdown",
   "id": "93a7ad16",
   "metadata": {},
   "source": [
    "$$\n",
    "{\\displaystyle \\min_{\\boldsymbol{\\beta}\\in {\\mathbb{R}}^{p}}}\\frac{1}{n}\\left\\{\\left(\\boldsymbol{y}-\\boldsymbol{X}\\boldsymbol{\\beta}\\right)^T\\left(\\boldsymbol{y}-\\boldsymbol{X}\\boldsymbol{\\beta}\\right)\\right\\}.\n",
    "$$"
   ]
  },
  {
   "cell_type": "markdown",
   "id": "6b182c01",
   "metadata": {},
   "source": [
    "By minimizing the above equation with respect to the parameters $\\boldsymbol{\\beta}$ we could then obtain an analytical expression for the parameters $\\boldsymbol{\\hat\\beta_{OLS}}$.\n",
    "\n",
    "We can add a regularization parameter $\\lambda$ by\n",
    "defining a new cost function to be optimized, that is"
   ]
  },
  {
   "cell_type": "markdown",
   "id": "fb065daf",
   "metadata": {},
   "source": [
    "$$\n",
    "{\\displaystyle \\min_{\\boldsymbol{\\beta}\\in\n",
    "{\\mathbb{R}}^{p}}}\\frac{1}{n}\\vert\\vert \\boldsymbol{y}-\\boldsymbol{X}\\boldsymbol{\\beta}\\vert\\vert_2^2+\\lambda\\vert\\vert \\boldsymbol{\\beta}\\vert\\vert_2^2\n",
    "$$"
   ]
  },
  {
   "cell_type": "markdown",
   "id": "89ae11e8",
   "metadata": {},
   "source": [
    "which leads to the Ridge regression minimization problem. (One can require as part of the optimization problem that $\\vert\\vert \\boldsymbol{\\beta}\\vert\\vert_2^2\\le t$, where $t$ is a finite number larger than zero. We will not implement that in this course.)"
   ]
  },
  {
   "cell_type": "markdown",
   "id": "456d58d4",
   "metadata": {},
   "source": [
    "### a) Expression for Ridge regression\n",
    "\n",
    "Show that the optimal parameters"
   ]
  },
  {
   "cell_type": "markdown",
   "id": "a5677efd",
   "metadata": {},
   "source": [
    "$$\n",
    "\\hat{\\boldsymbol{\\beta}}_{\\mathrm{Ridge}} = \\left(\\boldsymbol{X}^T\\boldsymbol{X}+\\lambda\\boldsymbol{I}\\right)^{-1}\\boldsymbol{X}^T\\boldsymbol{y},\n",
    "$$"
   ]
  },
  {
   "cell_type": "markdown",
   "id": "e7b08048",
   "metadata": {},
   "source": [
    "with $\\boldsymbol{I}$ being a $p\\times p$ identity matrix.\n",
    "\n",
    "The ordinary least squares result is"
   ]
  },
  {
   "cell_type": "markdown",
   "id": "8bb0e6af",
   "metadata": {},
   "source": [
    "$$\n",
    "\\hat{\\boldsymbol{\\beta}}_{\\mathrm{OLS}} = \\left(\\boldsymbol{X}^T\\boldsymbol{X}\\right)^{-1}\\boldsymbol{X}^T\\boldsymbol{y},\n",
    "$$"
   ]
  },
  {
   "cell_type": "markdown",
   "id": "6575946f",
   "metadata": {},
   "source": [
    "Answer:\n",
    "\n",
    "We start by minimizing the cost function with respect to $\\beta$ . To do this we take the derivative of the cost function (gradient) and put it equal to zero:\n",
    "\n",
    "Expand: \n",
    "\n",
    "$J(\\boldsymbol{\\beta}) = \\|\\boldsymbol{y} - \\boldsymbol{X} \\boldsymbol{\\beta}\\|_2^2 + \\lambda \\|\\boldsymbol{\\beta}\\|_2^2 = (\\boldsymbol{y} - \\boldsymbol{X} \\boldsymbol{\\beta})^T (\\boldsymbol{y} - \\boldsymbol{X} \\boldsymbol{\\beta}) + \\lambda \\boldsymbol{\\beta}^T \\boldsymbol{\\beta}.$\n",
    "\n",
    "Find gradient:\n",
    "\n",
    "$$\\frac{\\partial J(\\boldsymbol{\\beta})}{\\partial \\boldsymbol{\\beta}} = -2 \\boldsymbol{X}^T (\\boldsymbol{y} - \\boldsymbol{X} \\boldsymbol{\\beta}) + 2 \\lambda \\boldsymbol{\\beta}.$$\n",
    "\n",
    "Put gradient to equal zero and solve for $\\beta$:\n",
    "\n",
    "$-2 \\boldsymbol{X}^T (\\boldsymbol{y} - \\boldsymbol{X} \\boldsymbol{\\beta}) + 2 \\lambda \\boldsymbol{\\beta} = 0,$\n",
    "\n",
    "$\\boldsymbol{X}^T (\\boldsymbol{y} - \\boldsymbol{X} \\boldsymbol{\\beta}) = \\lambda \\boldsymbol{\\beta},$\n",
    "\n",
    "$\\boldsymbol{X}^T \\boldsymbol{y} - {X}^T \\boldsymbol{X} \\boldsymbol{\\beta} = \\lambda \\boldsymbol{\\beta},$\n",
    "\n",
    "$\\boldsymbol{X}^T \\boldsymbol{y} = \\boldsymbol{X}^T \\boldsymbol{X} \\boldsymbol{\\beta} + \\lambda \\boldsymbol{\\beta}$\n",
    "\n",
    "Now we take the $\\boldsymbol{\\beta}$ out of the paranthesis and insert the identity matrix $\\boldsymbol{I}$ for completeness:\n",
    "\n",
    "$\\boldsymbol{X}^T \\boldsymbol{y} = (\\boldsymbol{X}^T \\boldsymbol{X} + \\lambda {I}) \\boldsymbol{\\beta}$\n",
    "\n",
    "$\\hat{\\boldsymbol{\\beta}}_{\\mathrm{Ridge}} = (\\boldsymbol{X}^T \\boldsymbol{X} + \\lambda \\boldsymbol{I})^{-1} \\boldsymbol{X}^T \\boldsymbol{y}$\n",
    "\n",
    "\n",
    "\n",
    "\n"
   ]
  },
  {
   "cell_type": "markdown",
   "id": "2faaae78",
   "metadata": {},
   "source": [
    "## Exercise 3 - Scaling data"
   ]
  },
  {
   "cell_type": "code",
   "execution_count": 701,
   "id": "8ed79466",
   "metadata": {},
   "outputs": [],
   "source": [
    "import numpy as np\n",
    "import matplotlib.pyplot as plt\n",
    "from sklearn.model_selection import train_test_split\n",
    "from sklearn.preprocessing import StandardScaler"
   ]
  },
  {
   "cell_type": "markdown",
   "id": "c9fc9fe0",
   "metadata": {},
   "source": [
    "**a)** Adapt your function from last week to only include the intercept column if the boolean argument `intercept` is set to true."
   ]
  },
  {
   "cell_type": "code",
   "execution_count": 702,
   "id": "2ebf249a",
   "metadata": {},
   "outputs": [
    {
     "name": "stdout",
     "output_type": "stream",
     "text": [
      "(100, 4) (100, 3)\n"
     ]
    }
   ],
   "source": [
    "n = 100\n",
    "x = np.linspace(-3, 3, n)\n",
    "y = np.exp(-x**2) + 1.5 * np.exp(-(x-2)**2) + np.random.normal(0, 0.1)\n",
    "\n",
    "def polynomial_features(x, p, intercept = False):\n",
    "    n = len(x)\n",
    "    if intercept:\n",
    "        X = np.ones((n,p+1))\n",
    "        for i in range(1, p+1):\n",
    "            X[:, i] = x**i\n",
    "    else:\n",
    "        X = np.zeros((n, p))\n",
    "        for i in range(1, p + 1):\n",
    "            X[:, i - 1] = x ** i\n",
    "    return X\n",
    "\n",
    "p = 3\n",
    "X1 = polynomial_features(x, p, intercept=True)\n",
    "X2 = polynomial_features(x, p, intercept=False)\n",
    "print(X1.shape, X2.shape)"
   ]
  },
  {
   "cell_type": "markdown",
   "id": "c5924634",
   "metadata": {},
   "source": [
    "**b)** Split your data into training and test data(80/20 split)"
   ]
  },
  {
   "cell_type": "code",
   "execution_count": 703,
   "id": "676541e7",
   "metadata": {},
   "outputs": [],
   "source": [
    "X = polynomial_features(x, p)"
   ]
  },
  {
   "cell_type": "code",
   "execution_count": 704,
   "id": "f895606f",
   "metadata": {},
   "outputs": [],
   "source": [
    "X_train, X_test, y_train, y_test = train_test_split(X, y, test_size=0.2)\n",
    "x_train = X_train[:, 0] # These are used for plotting\n",
    "x_test = X_test[:, 0] # These are used for plotting"
   ]
  },
  {
   "cell_type": "markdown",
   "id": "a58f05ad",
   "metadata": {},
   "source": [
    "**c)** Scale your design matrix with the sklearn standard scaler, though based on the mean and standard deviation of the training data only."
   ]
  },
  {
   "cell_type": "code",
   "execution_count": 705,
   "id": "0c07995a",
   "metadata": {},
   "outputs": [],
   "source": [
    "scaler = StandardScaler()\n",
    "scaler.fit(X_train)\n",
    "X_train_s = scaler.transform(X_train)\n",
    "X_test_s = scaler.transform(X_test)\n",
    "y_offset = np.mean(y_train)"
   ]
  },
  {
   "cell_type": "markdown",
   "id": "63b86003",
   "metadata": {},
   "source": [
    "## Exercise 4 - Implementing Ridge Regression"
   ]
  },
  {
   "cell_type": "markdown",
   "id": "a2f52ef2",
   "metadata": {},
   "source": [
    "**a)** Implement a function for computing the optimal Ridge parameters using the expression from **2a)**."
   ]
  },
  {
   "cell_type": "code",
   "execution_count": 706,
   "id": "69f19bde",
   "metadata": {},
   "outputs": [],
   "source": [
    "def Ridge_parameters(X, y, lambda_reg = 0.1):\n",
    "    # Assumes X is scaled and has no intercept column\n",
    "    # We have to introduse the term (lambda*I):\n",
    "    pred = X.shape[1]\n",
    "    I = np.eye(pred) # pxp identity\n",
    "\n",
    "    return np.linalg.inv((X.T @ X)+I*lambda_reg) @ X.T @ y\n",
    "\n",
    "\n",
    "beta = Ridge_parameters(X_train_s, y_train - y_offset)"
   ]
  },
  {
   "cell_type": "markdown",
   "id": "626c81ba",
   "metadata": {},
   "source": [
    "**b)** Fit a model to the data, and plot the prediction using both the training and test x-values extracted before scaling, and the y_offset."
   ]
  },
  {
   "cell_type": "code",
   "execution_count": 707,
   "id": "f9ba0655",
   "metadata": {},
   "outputs": [
    {
     "data": {
      "image/png": "[encoded data removed]",
      "text/plain": [
       "<Figure size 640x480 with 1 Axes>"
      ]
     },
     "metadata": {},
     "output_type": "display_data"
    }
   ],
   "source": [
    "lambda_reg = 0.01\n",
    "p= 3\n",
    "\n",
    "beta = Ridge_parameters(X_train_s, y_train - y_offset, lambda_reg)\n",
    "\n",
    "# Predictions for plotting, train + test\n",
    "X_train_poly = polynomial_features(x_train, p, intercept=False)\n",
    "X_test_poly = polynomial_features(x_test, p, intercept=False)\n",
    "\n",
    "X_train_poly_s = scaler.transform(X_train_poly)\n",
    "X_test_poly_s = scaler.transform(X_test_poly)\n",
    "\n",
    "y_hat_train = X_train_poly_s @ beta + y_offset\n",
    "y_hat_test = X_test_poly_s @ beta + y_offset\n",
    "\n",
    "plt.plot(x, y, label='True Data')\n",
    "plt.scatter(x_train, y_hat_train, color='cyan', label='Train Prediction')\n",
    "plt.scatter(x_test, y_hat_test, color='orange', label='Test Prediction')\n",
    "plt.legend()\n",
    "plt.title('Ridge Regression Predictions')\n",
    "plt.show()\n"
   ]
  },
  {
   "cell_type": "markdown",
   "id": "2993cfae",
   "metadata": {},
   "source": [
    "## Exercise 4 - Testing multiple hyperparameters"
   ]
  },
  {
   "cell_type": "markdown",
   "id": "e6cdc89a",
   "metadata": {},
   "source": [
    "**a)** Compute the MSE of your ridge model for polynomials of degrees 1 to 5 with lambda set to 0.01. Plot the MSE as a function of polynomial degree.\n",
    "\n",
    "**b)** Compute the MSE of your ridge model for a polynomial with degree 3, and with lambdas from $10^{-1}$ to $10^{-5}$ on a logarithmic scale. Plot the MSE as a function of lambda.\n",
    "\n",
    "**c)** Compute the MSE of your ridge model for polynomials of degrees 1 to 5, and with lambdas from $10^{-1}$ to $10^{-5}$ on a logarithmic scale. Plot the MSE as a function of polynomial degree and lambda using a [heatmap](https://matplotlib.org/stable/gallery/images_contours_and_fields/image_annotated_heatmap.html)."
   ]
  }
 ],
 "metadata": {
  "kernelspec": {
   "display_name": ".venv (3.13.7)",
   "language": "python",
   "name": "python3"
  },
  "language_info": {
   "codemirror_mode": {
    "name": "ipython",
    "version": 3
   },
   "file_extension": ".py",
   "mimetype": "text/x-python",
   "name": "python",
   "nbconvert_exporter": "python",
   "pygments_lexer": "ipython3",
   "version": "3.13.7"
  }
 },
 "nbformat": 4,
 "nbformat_minor": 5
}
