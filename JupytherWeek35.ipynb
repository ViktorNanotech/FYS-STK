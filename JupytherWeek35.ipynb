{
 "cells": [
  {
   "cell_type": "markdown",
   "id": "b4005770",
   "metadata": {},
   "source": [
    "# Exercises week 35\n",
    "\n",
    "## Deriving and Implementing Ordinary Least Squares"
   ]
  },
  {
   "cell_type": "markdown",
   "id": "2ca1b589",
   "metadata": {},
   "source": [
    "This week you will be deriving the analytical expressions for linear regression, building up the model from scratch. This will include taking several derivatives of products of vectors and matrices. Such derivatives are central to the optimization of many machine learning models. Although we will often use automatic differentiation in actual calculations, to be able to have analytical expressions is extremely helpful in case we have simpler derivatives as well as when we analyze various properties (like second derivatives) of the chosen cost functions.\n",
    "\n",
    "Vectors are always written as boldfaced lower case letters and matrices as upper case boldfaced letters. You will find useful the notes from week 35 on derivatives of vectors and matrices. See also the textbook of Faisal at al, chapter 5 and in particular sections 5.3-5.5 at <https://github.com/CompPhysics/MachineLearning/blob/master/doc/Textbooks/MathMLbook.pdf>"
   ]
  },
  {
   "cell_type": "markdown",
   "id": "41e92bf9",
   "metadata": {},
   "source": [
    "### Learning goals\n",
    "\n",
    "After completing these exercises, you will know how to\n",
    "- Take the derivatives of simple products between vectors and matrices\n",
    "- Implement OLS using the analytical expressions\n",
    "- Create a feature matrix from a set of data\n",
    "- Create a feature matrix for a polynomial model\n",
    "- Evaluate the MSE score of various model on training and test data, and comparing their performance\n",
    "\n",
    "### Deliverables\n",
    "\n",
    "Complete the following exercises while working in a jupyter notebook. Then, in canvas, include\n",
    "- The jupyter notebook with the exercises completed\n",
    "- An exported PDF of the notebook (https://code.visualstudio.com/docs/datascience/jupyter-notebooks#_export-your-jupyter-notebook)"
   ]
  },
  {
   "cell_type": "markdown",
   "id": "f7a9209d",
   "metadata": {},
   "source": [
    "## How to take derivatives of Matrix-Vector expressions"
   ]
  },
  {
   "cell_type": "markdown",
   "id": "45f3712e",
   "metadata": {},
   "source": [
    "In these exercises it is always useful to write out with summation indices the various quantities. Take also a look at the weekly slides from week 35 and the various examples included there.\n",
    "\n",
    "As an example, consider the function\n",
    "\n",
    "$$\n",
    "f(\\boldsymbol{x}) =\\boldsymbol{A}\\boldsymbol{x},\n",
    "$$\n",
    "\n",
    "which reads for a specific component $f_i$ (we define the matrix $\\boldsymbol{A}$ to have dimension $n\\times n$ and the vector $\\boldsymbol{x}$ to have length $n$)\n",
    "\n",
    "$$\n",
    "f_i =\\sum_{j=0}^{n-1}a_{ij}x_j,\n",
    "$$\n",
    "\n",
    "which leads to\n",
    "\n",
    "$$\n",
    "\\frac{\\partial f_i}{\\partial x_j}= a_{ij},\n",
    "$$\n",
    "\n",
    "and written out in terms of the vector $\\boldsymbol{x}$ we have\n",
    "\n",
    "$$\n",
    "\\frac{\\partial f(\\boldsymbol{x})}{\\partial \\boldsymbol{x}}= \\boldsymbol{A}.\n",
    "$$"
   ]
  },
  {
   "cell_type": "markdown",
   "id": "5fa8a4e6",
   "metadata": {},
   "source": [
    "## Exercise 1 - Finding the derivative of Matrix-Vector expressions"
   ]
  },
  {
   "cell_type": "markdown",
   "id": "df7a2270",
   "metadata": {},
   "source": [
    "**a)** Consider the expression\n",
    "\n",
    "$$\n",
    "\\frac{\\partial (\\boldsymbol{a}^T\\boldsymbol{x})}{\\partial \\boldsymbol{x}},\n",
    "$$\n",
    "\n",
    "Where $\\boldsymbol{a}$ and $\\boldsymbol{x}$ are column-vectors with length $n$.\n",
    "\n",
    "What is the *shape* of the expression we are taking the derivative of?\n",
    "\n",
    "1x1\n",
    "\n",
    "What is the *shape* of the thing we are taking the derivative with respect to?\n",
    "\n",
    "(n,1)\n",
    "\n",
    "What is the *shape* of the result of the expression?\n",
    "\n",
    "(1,n)"
   ]
  },
  {
   "cell_type": "markdown",
   "id": "c0396734",
   "metadata": {},
   "source": [
    "**b)** Show that\n",
    "$$\n",
    "\\frac{\\partial (\\boldsymbol{a}^T\\boldsymbol{x})}{\\partial \\boldsymbol{x}} = \\boldsymbol{a}^T,\n",
    "$$\n",
    "\n",
    "ANSWER:\n",
    "The expression \n",
    "$\\boldsymbol{a}^T \\boldsymbol{x}$ \n",
    "is a scalar. expand: \n",
    "\n",
    "$$\\boldsymbol{a}^T \\boldsymbol{x} = \\sum_{i=1}^n a_i x_i,$$\n",
    "Partial derivative with respect to a specifick component $x_j$:\n",
    "\n",
    "$$\\frac{\\partial (\\boldsymbol{a}^T \\boldsymbol{x})}{\\partial x_j} = a_j.$$\n",
    "Collecting for all $j$ from 1 to $n$, the derivative is the row vector $[a_1, a_2, \\dots, a_n]$, which is $\\boldsymbol{a}^T$."
   ]
  },
  {
   "cell_type": "markdown",
   "id": "dc39d541",
   "metadata": {},
   "source": [
    "**c)** Show that\n",
    "\n",
    "$$\n",
    "\\frac{\\partial (\\boldsymbol{a}^T\\boldsymbol{A}\\boldsymbol{a})}{\\partial \\boldsymbol{a}} = \\boldsymbol{a}^T(\\boldsymbol{A}+\\boldsymbol{A}^T),\n",
    "$$\n",
    "\n",
    "ANSWER:\n",
    "First expand it using summation:\n",
    "\n",
    "$$\\boldsymbol{a}^T \\boldsymbol{A} \\boldsymbol{a} = \\sum_{i=1}^n \\sum_{j=1}^n a_i A_{ij} a_j,$$\n",
    "\n",
    "where $A_{ij}$ are the elements of the $n \\times n$ matrix $\\boldsymbol{A}$, and $a_i$, $a_j$ are components of $\\boldsymbol{a}$.\n",
    "\n",
    "The partial derivative with respect to a specific component $a_k$ is:\n",
    "$$\\frac{\\partial (\\boldsymbol{a}^T \\boldsymbol{A} \\boldsymbol{a})}{\\partial a_k} = \\sum_{i=1}^n a_i A_{ik} + \\sum_{j=1}^n A_{kj} a_j = \\sum_{i=1}^n a_i A_{ik} + \\sum_{j=1}^n a_j A_{jk}^T,$$\n",
    "\n",
    "In the expression above we have used that: \n",
    "\n",
    "$A_{kj} = (A^T)_{jk}$\n",
    "\n",
    "We relabel and put $a_i$ outside the parenthesis: \n",
    "\n",
    "$ \\sum_{i=1}^n a_i A_{ik} + \\sum_{i=1}^n a_i A_{ik}^T = \\sum_{i=1}^n a_i (A_{ik} + A_{ik}^T)$\n",
    "\n",
    "After we sum up we get \n",
    "$$\\boldsymbol{a}^T(\\boldsymbol{A}+\\boldsymbol{A}^T)\n",
    "$$"
   ]
  },
  {
   "cell_type": "markdown",
   "id": "498d13ec",
   "metadata": {},
   "source": [
    "## Exercise 2 - Deriving the expression for OLS"
   ]
  },
  {
   "cell_type": "markdown",
   "id": "f3f771de",
   "metadata": {},
   "source": [
    "The ordinary least squares method finds the parameters $\\boldsymbol{\\theta}$ which minimizes the squared error between our model $\\boldsymbol{X\\theta}$ and the true values $\\boldsymbol{y}$.\n",
    "\n",
    "To find the parameters $\\boldsymbol{\\theta}$ which minimizes this error, we take the derivative of the squared error expression with respect to $\\boldsymbol{\\theta}$, and set it equal to 0."
   ]
  },
  {
   "cell_type": "markdown",
   "id": "49690237",
   "metadata": {},
   "source": [
    "**a)** Very briefly explain why the approach above finds the parameters $\\boldsymbol{\\theta}$ which minimizes this error.\n",
    "\n",
    "ANSWER:\n",
    "The squared error function is a konveks quadratic function. To find the minimum (where the error is minimized) we find the point where the gradient = 0. We do this by derivating and setting the expression = 0 and solve for theta. It has to do with the nature of the koveks squarred function."
   ]
  },
  {
   "cell_type": "markdown",
   "id": "b7cccc9d",
   "metadata": {},
   "source": [
    "We typically write the squared error as\n",
    "\n",
    "$$\n",
    "\\vert\\vert\\boldsymbol{y} - \\boldsymbol{X\\theta}\\vert\\vert^2\n",
    "$$\n",
    "\n",
    "which we can rewrite in matrix-vector form as\n",
    "\n",
    "$$\n",
    "\\left(\\boldsymbol{y}-\\boldsymbol{X}\\boldsymbol{\\theta}\\right)^T\\left(\\boldsymbol{y}-\\boldsymbol{X}\\boldsymbol{\\theta}\\right)\n",
    "$$"
   ]
  },
  {
   "cell_type": "markdown",
   "id": "8fbecf74",
   "metadata": {},
   "source": [
    "**b)** If $\\boldsymbol{X}$ is invertible, what is the expression for the optimal parameters $\\boldsymbol{\\theta}$? (**Hint:** Don't compute any derivatives, but solve $\\boldsymbol{X\\theta}=\\boldsymbol{y}$ for $\\boldsymbol{\\theta}$)\n",
    "\n",
    "ANSWER: Solve for theta: \n",
    "\n",
    "$\\boldsymbol{\\theta} = \\boldsymbol{X}^{-1} \\boldsymbol{y}.$"
   ]
  },
  {
   "cell_type": "markdown",
   "id": "f37af8f0",
   "metadata": {},
   "source": [
    "**c)** Show that\n",
    "\n",
    "$$\n",
    "\\frac{\\partial \\left(\\boldsymbol{x}-\\boldsymbol{A}\\boldsymbol{s}\\right)^T\\left(\\boldsymbol{x}-\\boldsymbol{A}\\boldsymbol{s}\\right)}{\\partial \\boldsymbol{s}} = -2\\left(\\boldsymbol{x}-\\boldsymbol{A}\\boldsymbol{s}\\right)^T\\boldsymbol{A},\n",
    "$$\n",
    "\n",
    "ANSWER: We start by expand what is being derivated and try to derivate each part by its own:\n",
    "\n",
    "$(\\boldsymbol{x} - \\boldsymbol{A}\\boldsymbol{s})^T (\\boldsymbol{x} - \\boldsymbol{A}\\boldsymbol{s}) = \\boldsymbol{x}^T \\boldsymbol{x} - \\boldsymbol{x}^T \\boldsymbol{A}\\boldsymbol{s} - \\boldsymbol{s}^T \\boldsymbol{A}^T \\boldsymbol{x} + \\boldsymbol{s}^T \\boldsymbol{A}^T \\boldsymbol{A}\\boldsymbol{s}.$\n",
    "\n",
    "The derivative of $\\boldsymbol{x}^T \\boldsymbol{x}$ is 0.\n",
    "\n",
    "The derivative of $-\\boldsymbol{x}^T \\boldsymbol{A}\\boldsymbol{s}$ is $-\\boldsymbol{x}^T \\boldsymbol{A}$ \n",
    "\n",
    "The derivative of $-\\boldsymbol{s}^T \\boldsymbol{A}^T \\boldsymbol{x}$ is $-\\boldsymbol{A}^T \\boldsymbol{x}$\n",
    "\n",
    "The derivative of $\\boldsymbol{s}^T \\boldsymbol{A}^T \\boldsymbol{A}\\boldsymbol{s}$ is $2 \\boldsymbol{s}^T \\boldsymbol{A}^T \\boldsymbol{A}$ \n",
    "\n",
    "Combining gives:\n",
    "\n",
    "$$-\\boldsymbol{x}^T \\boldsymbol{A} - \\boldsymbol{A}^T \\boldsymbol{x} + 2 \\boldsymbol{s}^T \\boldsymbol{A}^T \\boldsymbol{A} = -2 \\boldsymbol{x}^T \\boldsymbol{A} + 2 \\boldsymbol{s}^T \\boldsymbol{A}^T \\boldsymbol{A},$$\n",
    " ($\\boldsymbol{A}^T \\boldsymbol{x} = \\boldsymbol{x}^T \\boldsymbol{A}$)  \n",
    " Factoring gives:\n",
    "$$2 (\\boldsymbol{s}^T \\boldsymbol{A}^T \\boldsymbol{A} - \\boldsymbol{x}^T \\boldsymbol{A}) = 2 (\\boldsymbol{A}\\boldsymbol{s} - \\boldsymbol{x})^T \\boldsymbol{A} = -2 (\\boldsymbol{x} - \\boldsymbol{A}\\boldsymbol{s})^T \\boldsymbol{A}.$$\n"
   ]
  },
  {
   "cell_type": "markdown",
   "id": "869fca4d",
   "metadata": {},
   "source": [
    "**d)** Using the expression from **c)**, but substituting back in $\\boldsymbol{\\theta}$, $\\boldsymbol{y}$ and $\\boldsymbol{X}$, find the expression for the optimal parameters $\\boldsymbol{\\theta}$ in the case that $\\boldsymbol{X}$ is not invertible, but $\\boldsymbol{X^T X}$ is, which is most often the case.\n",
    "\n",
    "$$\n",
    "\\boldsymbol{\\hat{\\theta}_{OLS}} = ...\n",
    "$$\n",
    "\n",
    "ANSWER: \n",
    "Substitute $\\boldsymbol{x} \\to \\boldsymbol{y}$, $\\boldsymbol{A} \\to \\boldsymbol{X}$, $\\boldsymbol{s} \\to \\boldsymbol{\\theta}$ into the expression from C:\n",
    "$$\\frac{\\partial (\\boldsymbol{y} - \\boldsymbol{X}\\boldsymbol{\\theta})^T (\\boldsymbol{y} - \\boldsymbol{X}\\boldsymbol{\\theta})}{\\partial \\boldsymbol{\\theta}} = -2 (\\boldsymbol{y} - \\boldsymbol{X}\\boldsymbol{\\theta})^T \\boldsymbol{X}.$$\n",
    "Set the derivative to zero for minimization:\n",
    "$$-2 (\\boldsymbol{y} - \\boldsymbol{X}\\boldsymbol{\\theta})^T \\boldsymbol{X} = 0 \\implies (\\boldsymbol{y} - \\boldsymbol{X}\\boldsymbol{\\theta})^T \\boldsymbol{X} = 0 \\implies \\boldsymbol{y}^T \\boldsymbol{X} = \\boldsymbol{\\theta}^T \\boldsymbol{X}^T \\boldsymbol{X}.$$\n",
    "Taking transpose (since all are matrices/vectors):\n",
    "$$\\boldsymbol{X}^T \\boldsymbol{y} = \\boldsymbol{X}^T \\boldsymbol{X} \\boldsymbol{\\theta}.$$\n",
    "Assuming $\\boldsymbol{X}^T \\boldsymbol{X}$ is invertible, solve for $\\boldsymbol{\\theta}$:\n",
    "$$\\boldsymbol{\\hat{\\theta}}_{\\text{OLS}} = (\\boldsymbol{X}^T \\boldsymbol{X})^{-1} \\boldsymbol{X}^T \\boldsymbol{y}.$$"
   ]
  },
  {
   "cell_type": "markdown",
   "id": "57ca3d74",
   "metadata": {},
   "source": [
    "## Exercise 3 - Creating feature matrix and implementing OLS using the analytical expression"
   ]
  },
  {
   "cell_type": "markdown",
   "id": "5dc179f7",
   "metadata": {},
   "source": [
    "With the expression for $\\boldsymbol{\\hat{\\theta}_{OLS}}$, you now have what you need to implement OLS regression with your input data and target data $\\boldsymbol{y}$. But before you can do that, you need to set up you input data as a feature matrix $\\boldsymbol{X}$.\n",
    "\n",
    "In a feature matrix, each row is a datapoint and each column is a feature of that data. If you want to predict someones spending based on their income and number of children, for instance, you would create a row for each person in your dataset, with the montly income and the number of children as columns.\n",
    "\n",
    "We typically also include an intercept in our models. The intercept is a value that is added to our prediction regardless of the value of the other features. The intercept tries to account for constant effects in our data that are not dependant on anything else. In our current example, the intercept could account for living expenses which are typical regardless of income or childcare expenses.\n",
    "\n",
    "We calculate the optimal intercept by including a feature with the constant value of 1 in our model, which is then multplied by some parameter $\\theta_0$ from the OLS method into the optimal intercept value (which will be $\\theta_0$). In practice, we include the intercept in our model by adding a column of ones to the start of our feature matrix."
   ]
  },
  {
   "cell_type": "markdown",
   "id": "5da61481",
   "metadata": {},
   "source": [
    "**a)** Create a feature matrix $\\boldsymbol{X}$ for the features income and children, including an intercept column of ones at the start."
   ]
  },
  {
   "cell_type": "code",
   "execution_count": 1265,
   "id": "5ad87a65",
   "metadata": {},
   "outputs": [
    {
     "name": "stdout",
     "output_type": "stream",
     "text": [
      "[[  1. 116.   5.]\n",
      " [  1. 161.   3.]\n",
      " [  1. 167.   0.]\n",
      " [  1. 118.   4.]\n",
      " [  1. 172.   5.]\n",
      " [  1. 163.   3.]\n",
      " [  1. 179.   0.]\n",
      " [  1. 173.   4.]\n",
      " [  1. 162.   4.]\n",
      " [  1. 116.   3.]\n",
      " [  1. 101.   3.]\n",
      " [  1. 176.   5.]\n",
      " [  1. 178.   1.]\n",
      " [  1. 172.   0.]\n",
      " [  1. 143.   2.]\n",
      " [  1. 135.   3.]\n",
      " [  1. 160.   2.]\n",
      " [  1. 101.   1.]\n",
      " [  1. 149.   5.]\n",
      " [  1. 125.   4.]]\n"
     ]
    }
   ],
   "source": [
    "import numpy as np\n",
    "n = 20\n",
    "income = np.array([116., 161., 167., 118., 172., 163., 179., 173., 162., 116., 101., 176., 178., 172., 143., 135., 160., 101., 149., 125.])\n",
    "children = np.array([5, 3, 0, 4, 5, 3, 0, 4, 4, 3, 3, 5, 1, 0, 2, 3, 2, 1, 5, 4])\n",
    "spending = np.array([152., 141., 102., 136., 161., 129.,  99., 159., 160., 107.,  98., 164., 121.,  93., 112., 127., 117.,  69., 156., 131.])\n",
    "\n",
    "X = np.zeros((n, 3))\n",
    "X[:,0] = np.ones(n)\n",
    "X[:,1] = income\n",
    "X[:,2] = children\n",
    "\n",
    "print(X)"
   ]
  },
  {
   "cell_type": "markdown",
   "id": "e0ddfac2",
   "metadata": {},
   "source": [
    "**b)** Use the expression from **3d)** to find the optimal parameters $\\boldsymbol{\\hat{\\beta}_{OLS}}$ for predicting spending based on these features. Create a function for this operation, as you are going to need to use it a lot."
   ]
  },
  {
   "cell_type": "code",
   "execution_count": 1266,
   "id": "8f3f68aa",
   "metadata": {},
   "outputs": [
    {
     "name": "stdout",
     "output_type": "stream",
     "text": [
      "[ 9.12808583  0.5119025  14.60743095]\n"
     ]
    }
   ],
   "source": [
    "\n",
    "y = spending\n",
    "def OLS_parameters(X, y):\n",
    "    XT = (np.transpose(X))\n",
    "    XTX = XT @ X\n",
    "    XTy = XT @ y\n",
    "    return np.linalg.inv(XTX)@XTy\n",
    "\n",
    "beta = OLS_parameters(X, y)\n",
    "print(beta)"
   ]
  },
  {
   "cell_type": "markdown",
   "id": "0cb6da80",
   "metadata": {},
   "source": [
    "## Exercise 4 - Fitting a polynomial"
   ]
  },
  {
   "cell_type": "markdown",
   "id": "71015064",
   "metadata": {},
   "source": [
    "In this course, we typically do linear regression using polynomials, though in real world applications it is also very common to make linear models based on measured features like you did in the previous exercise.\n",
    "\n",
    "When fitting a polynomial with linear regression, we make each polynomial degree($x, x^2, x^3, ..., x^p$) its own feature."
   ]
  },
  {
   "cell_type": "markdown",
   "id": "8321451b",
   "metadata": {},
   "source": [
    "**a)** Create a feature matrix $\\boldsymbol{X}$ for the features $x, x^2, x^3, x^4, x^5$, including an intercept column of ones at the start. Make this into a function, as you will do this a lot over the next weeks."
   ]
  },
  {
   "cell_type": "code",
   "execution_count": 1267,
   "id": "91496e40",
   "metadata": {},
   "outputs": [],
   "source": [
    "n = 100\n",
    "x = np.linspace(-3, 3, n)\n",
    "y = np.exp(-x**2) + 1.5 * np.exp(-(x-2)**2) + np.random.normal(0, 0.1)\n",
    "\n",
    "def polynomial_features(x, p):\n",
    "    n = len(x)\n",
    "    X = np.zeros((n, p + 1))\n",
    "    for i in range(p+1):\n",
    "        X[:, i] = x**i\n",
    "\n",
    "    return X\n",
    "p = 5\n",
    "X = polynomial_features(x, p)"
   ]
  },
  {
   "cell_type": "markdown",
   "id": "b84b1e31",
   "metadata": {},
   "source": [
    "**b)** Use the expression from **3d)** to find the optimal parameters $\\boldsymbol{\\hat{\\beta}_{OLS}}$ for predicting $\\boldsymbol{y}$ based on these features. If you have done everything right so far, this code will not need changing."
   ]
  },
  {
   "cell_type": "code",
   "execution_count": 1268,
   "id": "034f502c",
   "metadata": {},
   "outputs": [],
   "source": [
    "beta = OLS_parameters(X, y)"
   ]
  },
  {
   "cell_type": "markdown",
   "id": "d703f788",
   "metadata": {},
   "source": [
    "**c)** Like in exercise 4 last week, split your feature matrix and target data into a training split and test split."
   ]
  },
  {
   "cell_type": "code",
   "execution_count": 1269,
   "id": "29171358",
   "metadata": {},
   "outputs": [],
   "source": [
    "from sklearn.model_selection import train_test_split\n",
    "\n",
    "X_train, X_test, y_train, y_test = train_test_split(X, y, test_size=0.3)\n"
   ]
  },
  {
   "cell_type": "markdown",
   "id": "a0e3509f",
   "metadata": {},
   "source": [
    "**d)** Train your model on the training data(find the parameters which best fit) and compute the MSE on both the training and test data."
   ]
  },
  {
   "cell_type": "code",
   "execution_count": 1270,
   "id": "1e346f4c",
   "metadata": {},
   "outputs": [
    {
     "name": "stdout",
     "output_type": "stream",
     "text": [
      "MSE train p5:  0.01360659681188085\n",
      "MSE test p5:  0.01425470943940745\n"
     ]
    }
   ],
   "source": [
    "\n",
    "beta = OLS_parameters(X_train, y_train)\n",
    "y_hat_train = X_train @ beta\n",
    "y_hat_test = X_test @ beta\n",
    "mse_train = np.mean((y_train - y_hat_train)**2)\n",
    "mse_test = np.mean((y_test - y_hat_test)**2)\n",
    "print(\"MSE train p5: \",mse_train)\n",
    "print(\"MSE test p5: \",mse_test)"
   ]
  },
  {
   "cell_type": "markdown",
   "id": "7e431889",
   "metadata": {},
   "source": [
    "**e)** Do the same for each polynomial degree from 2 to 10, and plot the MSE on both the training and test data as a function of polynomial degree. The aim is to reproduce Figure 2.11 of [Hastie et al](https://github.com/CompPhysics/MLErasmus/blob/master/doc/Textbooks/elementsstat.pdf). Feel free to read the discussions leading to figure 2.11 of Hastie et al. "
   ]
  },
  {
   "cell_type": "code",
   "execution_count": null,
   "id": "ceb57457",
   "metadata": {},
   "outputs": [
    {
     "name": "stdout",
     "output_type": "stream",
     "text": [
      "0.03347065282141526\n",
      "0.02014026845960447\n",
      "0.022389116279507695\n",
      "0.01389669308047224\n",
      "0.01011641035931474\n",
      "0.0050096734498880115\n",
      "0.0006832939295014245\n",
      "0.000768070698435273\n",
      "6.891626054507498e-05\n"
     ]
    },
    {
     "name": "stderr",
     "output_type": "stream",
     "text": [
      "C:\\Users\\rotki\\AppData\\Local\\Temp\\ipykernel_35660\\868989245.py:22: UserWarning: No artists with labels found to put in legend.  Note that artists whose label start with an underscore are ignored when legend() is called with no argument.\n",
      "  plt.legend()\n"
     ]
    },
    {
     "data": {
      "image/png": "[encoded data removed]",
      "text/plain": [
       "<Figure size 640x480 with 1 Axes>"
      ]
     },
     "metadata": {},
     "output_type": "display_data"
    }
   ],
   "source": [
    "import matplotlib.pyplot as plt\n",
    "\n",
    "degrees = range(2, 11)\n",
    "train_mses = []\n",
    "test_mses = []\n",
    "for i in degrees:\n",
    "    X = polynomial_features(x, i)\n",
    "    X_train, X_test, y_train, y_test = train_test_split(X, y, test_size=0.3)\n",
    "    beta = OLS_parameters(X_train, y_train)\n",
    "    y_hat_train = X_train @ beta\n",
    "    y_hat_test = X_test @ beta\n",
    "    mse_train = np.mean((y_train - y_hat_train)**2)\n",
    "    mse_test = np.mean((y_test - y_hat_test)**2)\n",
    "    train_mses.append(mse_train)\n",
    "    test_mses.append(mse_test)\n",
    "\n",
    "plt.plot(degrees,train_mses, color=\"blue\")\n",
    "plt.plot(degrees,test_mses, color= \"hotpink\")\n",
    "plt.xlabel('Polynomial Degree')\n",
    "plt.ylabel('Mean Squared Error')\n",
    "plt.legend()\n",
    "plt.grid(True)\n",
    "plt.show()\n",
    "\n"
   ]
  },
  {
   "cell_type": "markdown",
   "id": "5e5b5954",
   "metadata": {},
   "source": [
    "**f)** Interpret the graph. Why do the lines move as they do? What does it tell us about model performance and generalizability?"
   ]
  },
  {
   "cell_type": "markdown",
   "id": "57ace44d",
   "metadata": {},
   "source": [
    "It seems that the mean square error decreeses as we increase the polydegree. To answer why, we have to look at the dataset. In this case the target poly has the shape of a mountain with one local minimum (look at next cell). This is quite an unusal shape and the higher the polonomial degree we have the more curves/turning points can be drawn. The chance of fitting the corect shape is usually higher the more playing room u have (read: higher poly degree). Especially for such a unusual shape. But, as we saw in the lecture a dataset which perfectly follows a x**2 degree poly would of course have 0 MSE if the fittet poly order was 2."
   ]
  },
  {
   "cell_type": "code",
   "execution_count": 1272,
   "id": "5078a599",
   "metadata": {},
   "outputs": [
    {
     "data": {
      "text/plain": [
       "[<matplotlib.lines.Line2D at 0x16cffdcbd90>]"
      ]
     },
     "execution_count": 1272,
     "metadata": {},
     "output_type": "execute_result"
    },
    {
     "data": {
      "image/png": "[encoded data removed]",
      "text/plain": [
       "<Figure size 640x480 with 1 Axes>"
      ]
     },
     "metadata": {},
     "output_type": "display_data"
    }
   ],
   "source": [
    "x = np.linspace(-3, 3, n)\n",
    "y = np.exp(-x**2) + 1.5 * np.exp(-(x-2)**2) + np.random.normal(0, 0.1)\n",
    "plt.plot(x,y)"
   ]
  },
  {
   "cell_type": "markdown",
   "id": "ad2acfb9",
   "metadata": {},
   "source": []
  },
  {
   "cell_type": "code",
   "execution_count": null,
   "id": "25cefe57",
   "metadata": {},
   "outputs": [],
   "source": []
  },
  {
   "cell_type": "markdown",
   "id": "5994f0c5",
   "metadata": {},
   "source": [
    "## Exercise 5 - Comparing your code with sklearn"
   ]
  },
  {
   "cell_type": "markdown",
   "id": "8f595b7a",
   "metadata": {},
   "source": [
    "When implementing different algorithms for the first time, it can be helpful to double check your results with established implementations before you go on to add more complexity."
   ]
  },
  {
   "cell_type": "markdown",
   "id": "8ab310c1",
   "metadata": {},
   "source": [
    "**a)** Make sure your `polynomial_features` function creates the same feature matrix as sklearns PolynomialFeatures.\n",
    "\n",
    "(https://scikit-learn.org/stable/modules/generated/sklearn.preprocessing.PolynomialFeatures.html)"
   ]
  },
  {
   "cell_type": "code",
   "execution_count": 1273,
   "id": "85b964d1",
   "metadata": {},
   "outputs": [
    {
     "name": "stdout",
     "output_type": "stream",
     "text": [
      "Min egen\n",
      "[[   1.           -3.            9.          -27.           81.\n",
      "  -243.        ]\n",
      " [   1.           -2.93939394    8.64003673  -25.3964716    74.65023471\n",
      "  -219.42644749]\n",
      " [   1.           -2.87878788    8.28741965  -23.85772324   68.68132447\n",
      "  -197.71896439]\n",
      " [   1.           -2.81818182    7.94214876  -22.38241923   63.07772693\n",
      "  -177.76450317]\n",
      " [   1.           -2.75757576    7.60422406  -20.96922392   57.82422354\n",
      "  -159.45467702]]\n",
      "Sklearn\n",
      "[[   1.           -3.            9.          -27.           81.\n",
      "  -243.        ]\n",
      " [   1.           -2.93939394    8.64003673  -25.3964716    74.65023471\n",
      "  -219.42644749]\n",
      " [   1.           -2.87878788    8.28741965  -23.85772324   68.68132447\n",
      "  -197.71896439]\n",
      " [   1.           -2.81818182    7.94214876  -22.38241923   63.07772693\n",
      "  -177.76450317]\n",
      " [   1.           -2.75757576    7.60422406  -20.96922392   57.82422354\n",
      "  -159.45467702]]\n"
     ]
    }
   ],
   "source": [
    "X = polynomial_features(x, p)\n",
    "\n",
    "from sklearn.preprocessing import PolynomialFeatures\n",
    "\n",
    "poly = PolynomialFeatures(degree=5)\n",
    "X_sklearn = poly.fit_transform(x.reshape(-1, 1))\n",
    "print(\"Min egen\")\n",
    "print(X[:5,:])\n",
    "print(\"Sklearn\")\n",
    "print(X_sklearn[:5, :])\n"
   ]
  },
  {
   "cell_type": "markdown",
   "id": "73c32c52",
   "metadata": {},
   "source": [
    "**b)** Make sure your `OLS_parameters` function computes the same parameters as sklearns LinearRegression with fit_intercept set to False, since the intercept is included in the feature matrix. Use `your_model_object.coef_` to extract the computed parameters.\n",
    "\n",
    "(https://scikit-learn.org/stable/modules/generated/sklearn.linear_model.LinearRegression.html)"
   ]
  },
  {
   "cell_type": "code",
   "execution_count": 1274,
   "id": "35b04126",
   "metadata": {},
   "outputs": [
    {
     "name": "stdout",
     "output_type": "stream",
     "text": [
      "Min OLS:  [ 0.62804749  0.27464654 -0.02326439  0.05342623 -0.0034652  -0.0087781 ]\n",
      "Sklearn: [ 0.62804749  0.27464654 -0.02326439  0.05342623 -0.0034652  -0.0087781 ]\n"
     ]
    }
   ],
   "source": [
    "from sklearn.linear_model import LinearRegression\n",
    "\n",
    "model = LinearRegression(fit_intercept=False).fit(X,y)\n",
    "beta_sklearn = model.coef_\n",
    "\n",
    "beta = OLS_parameters(X, y)\n",
    "\n",
    "# Print both for manual comparison\n",
    "print(\"Min OLS: \", beta)\n",
    "print(\"Sklearn:\", beta_sklearn)"
   ]
  }
 ],
 "metadata": {
  "kernelspec": {
   "display_name": ".venv (3.13.7)",
   "language": "python",
   "name": "python3"
  },
  "language_info": {
   "codemirror_mode": {
    "name": "ipython",
    "version": 3
   },
   "file_extension": ".py",
   "mimetype": "text/x-python",
   "name": "python",
   "nbconvert_exporter": "python",
   "pygments_lexer": "ipython3",
   "version": "3.13.7"
  }
 },
 "nbformat": 4,
 "nbformat_minor": 5
}
