{
 "cells": [
  {
   "cell_type": "markdown",
   "id": "1b941c35",
   "metadata": {
    "editable": true
   },
   "source": [
    "<!-- HTML file automatically generated from DocOnce source (https://github.com/doconce/doconce/)\n",
    "doconce format html exercisesweek37.do.txt  -->\n",
    "<!-- dom:TITLE: Exercises week 37 -->"
   ]
  },
  {
   "cell_type": "markdown",
   "id": "dc05b096",
   "metadata": {
    "editable": true
   },
   "source": [
    "# Exercises week 37\n",
    "**Implementing gradient descent for Ridge and ordinary Least Squares Regression**\n",
    "\n",
    "Date: **September 8-12, 2025**"
   ]
  },
  {
   "cell_type": "markdown",
   "id": "2cf07405",
   "metadata": {
    "editable": true
   },
   "source": [
    "## Learning goals\n",
    "\n",
    "After having completed these exercises you will have:\n",
    "1. Your own code for the implementation of the simplest gradient descent approach applied to ordinary least squares (OLS) and Ridge regression\n",
    "\n",
    "2. Be able to compare the analytical expressions for OLS and Ridge regression with the gradient descent approach\n",
    "\n",
    "3. Explore the role of the learning rate in the gradient descent approach and the hyperparameter $\\lambda$ in Ridge regression\n",
    "\n",
    "4. Scale the data properly"
   ]
  },
  {
   "cell_type": "markdown",
   "id": "3c139edb",
   "metadata": {
    "editable": true
   },
   "source": [
    "## Simple one-dimensional second-order polynomial\n",
    "\n",
    "We start with a very simple function"
   ]
  },
  {
   "cell_type": "markdown",
   "id": "aad4cfac",
   "metadata": {
    "editable": true
   },
   "source": [
    "$$\n",
    "f(x)= 2-x+5x^2,\n",
    "$$"
   ]
  },
  {
   "cell_type": "markdown",
   "id": "6682282f",
   "metadata": {
    "editable": true
   },
   "source": [
    "defined for $x\\in [-2,2]$. You can add noise if you wish. \n",
    "\n",
    "We are going to fit this function with a polynomial ansatz. The easiest thing is to set up a second-order polynomial and see if you can fit the above function.\n",
    "Feel free to play around with higher-order polynomials."
   ]
  },
  {
   "cell_type": "markdown",
   "id": "89e2f4c4",
   "metadata": {
    "editable": true
   },
   "source": [
    "## Exercise 1, scale your data\n",
    "\n",
    "Before fitting a regression model, it is good practice to normalize or\n",
    "standardize the features. This ensures all features are on a\n",
    "comparable scale, which is especially important when using\n",
    "regularization. Here we will perform standardization, scaling each\n",
    "feature to have mean 0 and standard deviation 1."
   ]
  },
  {
   "cell_type": "markdown",
   "id": "b06d4e53",
   "metadata": {
    "editable": true
   },
   "source": [
    "### 1a)\n",
    "\n",
    "Compute the mean and standard deviation of each column (feature) in your design/feature matrix $\\boldsymbol{X}$.\n",
    "Subtract the mean and divide by the standard deviation for each feature.\n",
    "\n",
    "We will also center the target $\\boldsymbol{y}$ to mean $0$. Centering $\\boldsymbol{y}$\n",
    "(and each feature) means the model does not require a separate intercept\n",
    "term, the data is shifted such that the intercept is effectively 0\n",
    ". (In practice, one could include an intercept in the model and not\n",
    "penalize it, but here we simplify by centering.)\n",
    "Choose $n=100$ data points and set up $\\boldsymbol{x}, $\\boldsymbol{y}$ and the design matrix $\\boldsymbol{X}$."
   ]
  },
  {
   "cell_type": "code",
   "execution_count": 422,
   "id": "63796480",
   "metadata": {
    "collapsed": false,
    "editable": true
   },
   "outputs": [
    {
     "name": "stdout",
     "output_type": "stream",
     "text": [
      "[0.         1.16630586 1.21647937]\n",
      "[1.00000000e+00 1.28785871e-16 1.36026936e+00]\n",
      "[1.         1.16630586 1.21647937]\n",
      "(100, 3)\n",
      "[1. 1. 1. 1. 1. 1. 1. 1. 1. 1. 1. 1. 1. 1. 1. 1. 1. 1. 1. 1. 1. 1. 1. 1.\n",
      " 1. 1. 1. 1. 1. 1. 1. 1. 1. 1. 1. 1. 1. 1. 1. 1. 1. 1. 1. 1. 1. 1. 1. 1.\n",
      " 1. 1. 1. 1. 1. 1. 1. 1. 1. 1. 1. 1. 1. 1. 1. 1. 1. 1. 1. 1. 1. 1. 1. 1.\n",
      " 1. 1. 1. 1. 1. 1. 1. 1. 1. 1. 1. 1. 1. 1. 1. 1. 1. 1. 1. 1. 1. 1. 1. 1.\n",
      " 1. 1. 1. 1.]\n"
     ]
    }
   ],
   "source": [
    "import numpy as np\n",
    "\n",
    "n= 100\n",
    "x = np.linspace(-2,2,n)\n",
    "y = 2-x+5*x**2\n",
    "p=3\n",
    "lmbda = 0.1\n",
    "\n",
    "X = np.ones((n, p))\n",
    "for i in range(p):\n",
    "    X[:, i] = x ** i\n",
    "\n",
    "# Standardize features (zero mean, unit variance for each feature)\n",
    "X_mean = X.mean(axis=0)\n",
    "X_std = X.std(axis=0)\n",
    "print(X_std)\n",
    "X_std[X_std == 0] = 1  # safeguard to avoid division by zero for constant features\n",
    "X_norm = (X - X_mean) / X_std\n",
    "\n",
    "# Center the target to zero mean (optional, to simplify intercept handling)\n",
    "y_mean = y.mean()\n",
    "y_centered = y-y_mean\n",
    "\n",
    "print(X_mean)\n",
    "print(X_std)\n",
    "print(X.shape)\n",
    "\n",
    "print(X[:,0])\n",
    "\n"
   ]
  },
  {
   "cell_type": "markdown",
   "id": "80748600",
   "metadata": {
    "editable": true
   },
   "source": [
    "Fill in the necessary details.\n",
    "\n",
    "After this preprocessing, each column of $\\boldsymbol{X}_{\\mathrm{norm}}$ has mean zero and standard deviation $1$\n",
    "and $\\boldsymbol{y}_{\\mathrm{centered}}$ has mean 0. This makes the optimization landscape\n",
    "nicer and ensures the regularization penalty $\\lambda \\sum_j\n",
    "\\theta_j^2$ in Ridge regression treats each coefficient fairly (since features are on the\n",
    "same scale)."
   ]
  },
  {
   "cell_type": "markdown",
   "id": "92751e5f",
   "metadata": {
    "editable": true
   },
   "source": [
    "## Exercise 2, calculate the gradients\n",
    "\n",
    "Find the gradients for OLS and Ridge regression using the mean-squared error as cost/loss function."
   ]
  },
  {
   "cell_type": "code",
   "execution_count": 423,
   "id": "7130c8f2",
   "metadata": {},
   "outputs": [
    {
     "name": "stdout",
     "output_type": "stream",
     "text": [
      "[-12.88215488   5.44107744 -29.36177707]\n",
      "[-12.68215488   5.64107744 -29.16177707]\n"
     ]
    }
   ],
   "source": [
    "\n",
    "\n",
    "theta = np.ones(p) \n",
    "lmbda = 0.1                #Random starting parameter\n",
    "\n",
    "def grad_OLS(X, y, theta):\n",
    "    n = X.shape[0]\n",
    "    gradient1 = (2.0/n)*X.T @ (X @ theta-y)\n",
    "    return gradient1\n",
    "\n",
    "def grad_RIGDE(X, y, theta, lmbda):\n",
    "    n = X.shape[0]\n",
    "    gradient2 = 2.0*((1.0/n)*X.T @ ((X @ theta)-y)+lmbda * theta)\n",
    "    return gradient2\n",
    "\n",
    "O = grad_OLS(X,y, theta)\n",
    "R = grad_RIGDE(X,y, theta, lmbda)\n",
    "\n",
    "print(O)\n",
    "print(R)"
   ]
  },
  {
   "cell_type": "markdown",
   "id": "aedfbd7a",
   "metadata": {
    "editable": true
   },
   "source": [
    "## Exercise 3, using the analytical formulae for OLS and Ridge regression to find the optimal paramters $\\boldsymbol{\\theta}$"
   ]
  },
  {
   "cell_type": "code",
   "execution_count": 424,
   "id": "5d1288fa",
   "metadata": {
    "collapsed": false,
    "editable": true
   },
   "outputs": [
    {
     "name": "stdout",
     "output_type": "stream",
     "text": [
      "Closed-form Ridge coefficients: [ 2. -1.  5.]\n",
      "Closed-form OLS coefficients: [ 2.00009368 -0.99926539  4.99846076]\n"
     ]
    }
   ],
   "source": [
    "# Set regularization parameter, either a single value or a vector of values\n",
    "\n",
    "# Analytical form for OLS and Ridge solution: theta_Ridge = (X^T X + lambda * I)^{-1} X^T y and theta_OLS = (X^T X)^{-1} X^T y\n",
    "I = np.eye(p)\n",
    "lmbda = 0.1\n",
    "\n",
    "\n",
    "theta_closed_formOLS = np.linalg.inv(X.T @ X) @ (X.T @ y)\n",
    "theta_closed_formRidge = np.linalg.inv((X.T @ X)+(lmbda*I)) @ (X.T @ y)\n",
    "\n",
    "print(\"Closed-form Ridge coefficients:\", theta_closed_formOLS)\n",
    "print(\"Closed-form OLS coefficients:\", theta_closed_formRidge)"
   ]
  },
  {
   "cell_type": "markdown",
   "id": "628f5e89",
   "metadata": {
    "editable": true
   },
   "source": [
    "This computes the Ridge and OLS regression coefficients directly. The identity\n",
    "matrix $I$ has the same size as $X^T X$. It adds $\\lambda$ to the diagonal of $X^T X$ for Ridge regression. We\n",
    "then invert this matrix and multiply by $X^T y$. The result\n",
    "for $\\boldsymbol{\\theta}$  is a NumPy array of shape (n$\\_$features,) containing the\n",
    "fitted parameters $\\boldsymbol{\\theta}$."
   ]
  },
  {
   "cell_type": "markdown",
   "id": "f115ba4e",
   "metadata": {
    "editable": true
   },
   "source": [
    "### 3a)\n",
    "\n",
    "Finalize, in the above code, the OLS and Ridge regression determination of the optimal parameters $\\boldsymbol{\\theta}$."
   ]
  },
  {
   "cell_type": "markdown",
   "id": "a9b5189c",
   "metadata": {
    "editable": true
   },
   "source": [
    "### 3b)\n",
    "\n",
    "Explore the results as function of different values of the hyperparameter $\\lambda$. See for example exercise 4 from week 36."
   ]
  },
  {
   "cell_type": "code",
   "execution_count": 425,
   "id": "6208f147",
   "metadata": {},
   "outputs": [
    {
     "name": "stdout",
     "output_type": "stream",
     "text": [
      "[1.e-05 1.e-04 1.e-03 1.e-02 1.e-01 1.e+00]\n",
      "Closed-form OLS coefficients: [ 2.00000001 -0.99999993  4.99999985]\n",
      "Closed-form OLS coefficients: [ 2.0000001  -0.99999926  4.99999846]\n",
      "Closed-form OLS coefficients: [ 2.00000095 -0.99999265  4.9999846 ]\n",
      "Closed-form OLS coefficients: [ 2.00000951 -0.99992649  4.99984598]\n",
      "Closed-form OLS coefficients: [ 2.00009368 -0.99926539  4.99846076]\n",
      "Closed-form OLS coefficients: [ 2.00079461 -0.99270216  4.98470703]\n"
     ]
    }
   ],
   "source": [
    "lambdas = np.logspace(-5, 0, 6)\n",
    "print(lambdas)\n",
    "for i in lambdas:\n",
    "    print(\"Closed-form OLS coefficients:\", np.linalg.inv((X.T @ X)+(i*I)) @ (X.T @ y))\n"
   ]
  },
  {
   "cell_type": "markdown",
   "id": "a3969ff6",
   "metadata": {
    "editable": true
   },
   "source": [
    "## Exercise 4, Implementing the simplest form for gradient descent\n",
    "\n",
    "Alternatively, we can fit the ridge regression model using gradient\n",
    "descent. This is useful to visualize the iterative convergence and is\n",
    "necessary if $n$ and $p$ are so large that the closed-form might be\n",
    "too slow or memory-intensive. We derive the gradients from the cost\n",
    "functions defined above. Use the gradients of the Ridge and OLS cost functions with respect to\n",
    "the parameters  $\\boldsymbol{\\theta}$ and set up (using the template below) your own gradient descent code for OLS and Ridge regression.\n",
    "\n",
    "Below is a template code for gradient descent implementation of ridge:"
   ]
  },
  {
   "cell_type": "code",
   "execution_count": 426,
   "id": "34d87303",
   "metadata": {
    "collapsed": false,
    "editable": true
   },
   "outputs": [
    {
     "name": "stdout",
     "output_type": "stream",
     "text": [
      "Gradient Descent OLS coefficients: [ 2. -1.  5.]\n",
      "Gradient Descent Ridge coefficients: [ 1.99693355 -0.93151948  4.85545002]\n"
     ]
    }
   ],
   "source": [
    "# Gradient descent parameters, learning rate eta first\n",
    "eta = 0.1\n",
    "# Then number of iterations\n",
    "num_iters = 1000\n",
    "\n",
    "# Initialize weights for gradient descent\n",
    "#p=3\n",
    "theta_gdOLS = np.ones(p)\n",
    "theta_gdRidge = np.ones(p)\n",
    "# Gradient descent loop\n",
    "\n",
    "for i in range(num_iters):\n",
    "    # Compute gradients for OSL and Ridge\n",
    "    OLSgrad = grad_OLS(X, y, theta_gdOLS )\n",
    "    grad_Ridge = grad_RIGDE(X, y ,theta_gdRidge, lmbda)\n",
    "    # Update parameters theta\n",
    "    theta_gdOLS = theta_gdOLS - eta*OLSgrad\n",
    "    theta_gdRidge = theta_gdRidge - eta*grad_Ridge\n",
    "# After the loop, theta contains the fitted coefficients\n",
    "\n",
    "\n",
    "print(\"Gradient Descent OLS coefficients:\", theta_gdOLS)\n",
    "print(\"Gradient Descent Ridge coefficients:\", theta_gdRidge)"
   ]
  },
  {
   "cell_type": "markdown",
   "id": "989f70bb",
   "metadata": {
    "editable": true
   },
   "source": [
    "### 4a)\n",
    "\n",
    "Discuss the results as function of the learning rate parameters and the number of iterations."
   ]
  },
  {
   "cell_type": "markdown",
   "id": "b2f20dde",
   "metadata": {},
   "source": [
    "We get closer to the analytical expression the more times we iterate. This makes sense because the new value gets updated closer and closer to the minima of the convex curve thus finding more and more optimal parameters. The higher the learning rate, the faster we reach the minima untill the learning rate is so high that the theta value skips the minima and will either occilate around minima or just skip it every iteration. It seems like this valie is between eta = 2.2 and 2.3."
   ]
  },
  {
   "cell_type": "markdown",
   "id": "370b2dad",
   "metadata": {
    "editable": true
   },
   "source": [
    "### 4b)\n",
    "\n",
    "Try to add a stopping parameter as function of the number iterations and the difference between the new and old $\\theta$ values. How would you define a stopping criterion?"
   ]
  },
  {
   "cell_type": "code",
   "execution_count": 427,
   "id": "c02be185",
   "metadata": {},
   "outputs": [
    {
     "name": "stdout",
     "output_type": "stream",
     "text": [
      "Number of iterations intill satisfied (Rigde):  85\n",
      "Number of iterations intill satisfied (OLS):  85\n",
      "Gradient Descent OLS coefficients: [ 2.00086489 -1.          4.99960201]\n",
      "Gradient Descent Ridge coefficients: [ 1.99705563 -0.93151948  4.85539385]\n",
      "2.0008648914334906\n"
     ]
    }
   ],
   "source": [
    "theta_gdOLS = np.ones(p)\n",
    "theta_gdRidge = np.ones(p)\n",
    "printed = False\n",
    "DoneRigde = [np.array([100, 100, 100])]\n",
    "for i in range(num_iters):\n",
    "    # Compute gradients for OSL and Ridge\n",
    "    OLSgrad = grad_OLS(X, y, theta_gdOLS )\n",
    "    grad_Ridge = grad_RIGDE(X, y ,theta_gdRidge, lmbda)\n",
    "    # Update parameters theta\n",
    "    theta_gdOLS = theta_gdOLS - eta*OLSgrad\n",
    "    theta_gdRidge = theta_gdRidge - eta*grad_Ridge\n",
    "\n",
    "    #Stopping parameter\n",
    "    Oldtheta = theta_gdOLS - eta*OLSgrad\n",
    "    Oldrigde = theta_gdRidge - eta*grad_Ridge\n",
    "    change_OLS = np.linalg.norm(theta_gdOLS - Oldtheta) #Change between thetas dependence\n",
    "    change_Rigde = np.linalg.norm(theta_gdRidge - Oldrigde)\n",
    "    Stop = (i+1)**-5 #Itereation dependence\n",
    "    tol = 10**-4\n",
    "    DoneRigde.append(theta_gdRidge)\n",
    "\n",
    "    if change_Rigde < Stop/change_Rigde and not printed:\n",
    "       print(\"Number of iterations intill satisfied (Rigde): \",i)\n",
    "       DoneRigde.insert(0,theta_gdRidge)\n",
    "       printed = True\n",
    "\n",
    "    if DoneRigde[0][0] - theta_gdOLS[0] < tol: #Standarized for rigde change for comparison\n",
    "       print(\"Number of iterations intill satisfied (OLS): \",i)\n",
    "       DoneOLS = theta_gdOLS\n",
    "       break\n",
    "\n",
    "print(\"Gradient Descent OLS coefficients:\", DoneOLS)\n",
    "print(\"Gradient Descent Ridge coefficients:\", DoneRigde[0])\n",
    "\n",
    "\n",
    "print(theta_gdOLS[0])\n",
    "\n",
    "\n",
    "\n"
   ]
  },
  {
   "cell_type": "markdown",
   "id": "ef197cd7",
   "metadata": {
    "editable": true
   },
   "source": [
    "## Exercise 5, Ridge regression and a new Synthetic Dataset\n",
    "\n",
    "We create a synthetic linear regression dataset with a sparse\n",
    "underlying relationship. This means we have many features but only a\n",
    "few of them actually contribute to the target. In our example, we’ll\n",
    "use 10 features with only 3 non-zero weights in the true model. This\n",
    "way, the target is generated as a linear combination of a few features\n",
    "(with known coefficients) plus some random noise. The steps we include are:\n",
    "\n",
    "Decide on the number of samples and features (e.g. 100 samples, 10 features).\n",
    "Define the **true** coefficient vector with mostly zeros (for sparsity). For example, we set $\\hat{\\boldsymbol{\\theta}} = [5.0, -3.0, 0.0, 0.0, 0.0, 0.0, 2.0, 0.0, 0.0, 0.0]$, meaning only features 0, 1, and 6 have a real effect on y.\n",
    "\n",
    "Then we sample feature values for $\\boldsymbol{X}$ randomly (e.g. from a normal distribution). We use a normal distribution so features are roughly centered around 0.\n",
    "Then we compute the target values $y$ using the linear combination $\\boldsymbol{X}\\hat{\\boldsymbol{\\theta}}$ and add some noise (to simulate measurement error or unexplained variance).\n",
    "\n",
    "Below is the code to generate the dataset:"
   ]
  },
  {
   "cell_type": "code",
   "execution_count": 428,
   "id": "4ccc2f65",
   "metadata": {
    "collapsed": false,
    "editable": true
   },
   "outputs": [
    {
     "name": "stdout",
     "output_type": "stream",
     "text": [
      "Number of iterations intill satisfied (Rigde):  97\n",
      "Gradient Descent OLS coefficients: [ 5.00905236e+00 -3.00382930e+00 -1.62713728e-02  1.44822183e-01\n",
      " -7.16036678e-02 -4.29685812e-02  2.05557709e+00  1.97535221e-03\n",
      "  4.11914144e-02 -5.10222192e-02]\n",
      "Gradient Descent Ridge coefficients: [ 4.56106734 -2.64148831 -0.01936489  0.19520474 -0.14478459 -0.10738746\n",
      "  1.8165109   0.02712841 -0.03893852 -0.05635538]\n",
      "Closed-form Ridge coefficients: [ 5.00905318e+00 -3.00383337e+00 -1.62718294e-02  1.44819819e-01\n",
      " -7.16006510e-02 -4.29656382e-02  2.05558117e+00  1.97583716e-03\n",
      "  4.11922237e-02 -5.10225177e-02]\n",
      "Closed-form OLS coefficients: [ 5.00410898e+00 -2.99968373e+00 -1.63065915e-02  1.45477818e-01\n",
      " -7.25435409e-02 -4.37776623e-02  2.05285140e+00  2.26563823e-03\n",
      "  4.02214213e-02 -5.10893259e-02]\n"
     ]
    }
   ],
   "source": [
    "import numpy as np\n",
    "\n",
    "# Set random seed for reproducibility\n",
    "np.random.seed(0)\n",
    "\n",
    "# Define dataset size\n",
    "n_samples = 100\n",
    "n_features = 10\n",
    "\n",
    "# Define true coefficients (sparse linear relationship)\n",
    "theta_true = np.array([5.0, -3.0, 0.0, 0.0, 0.0, 0.0, 2.0, 0.0, 0.0, 0.0])\n",
    "\n",
    "# Generate feature matrix X (n_samples x n_features) with random values\n",
    "X = np.random.randn(n_samples, n_features)  # standard normal distribution\n",
    "\n",
    "# Generate target values y with a linear combination of X and theta_true, plus noise\n",
    "noise = 0.5 * np.random.randn(n_samples)    # Gaussian noise\n",
    "y = (X @ theta_true) + noise\n",
    "# Gradient descent parameters, learning rate eta first\n",
    "eta = 0.1\n",
    "# Then number of iterations\n",
    "num_iters = 100\n",
    "\n",
    "# Initialize weights for gradient descent\n",
    "\n",
    "theta_gdOLS = np.ones(n_features)\n",
    "theta_gdRidge = np.ones(n_features)\n",
    "# Gradient descent loop\n",
    "\n",
    "for i in range(num_iters):\n",
    "    # Compute gradients for OSL and Ridge\n",
    "    OLSgrad = grad_OLS(X, y, theta_gdOLS )\n",
    "    grad_Ridge = grad_RIGDE(X, y ,theta_gdRidge, lmbda)\n",
    "    # Update parameters theta\n",
    "    theta_gdOLS = theta_gdOLS - eta*OLSgrad\n",
    "    theta_gdRidge = theta_gdRidge - eta*grad_Ridge\n",
    "\n",
    "\n",
    "    #Stopping parameter\n",
    "    Oldtheta = theta_gdOLS - eta*OLSgrad\n",
    "    Oldrigde = theta_gdRidge - eta*grad_Ridge\n",
    "    change_OLS = np.linalg.norm(theta_gdOLS - Oldtheta) #Change between thetas dependence\n",
    "    change_Rigde = np.linalg.norm(theta_gdRidge - Oldrigde)\n",
    "\n",
    "    Stop = (i+1)**-6 #Itereation dependence\n",
    "   \n",
    "    if change_Rigde < Stop/change_OLS and not printed: \n",
    "       print(\"Number of iterations intill satisfied (OLS): \",i)\n",
    "       printed = True\n",
    "    if change_OLS < Stop/change_OLS: #Standarized for rigde change for comparison\n",
    "       print(\"Number of iterations intill satisfied (Rigde): \",i)\n",
    "       break\n",
    "     \n",
    "print(\"Gradient Descent OLS coefficients:\", theta_gdOLS)\n",
    "print(\"Gradient Descent Ridge coefficients:\", theta_gdRidge)\n",
    "  \n",
    "\n",
    "I = np.eye(n_features)\n",
    "lmbda = 0.1\n",
    "\n",
    "theta_closed_formOLS = np.linalg.inv(X.T @ X) @ (X.T @ y)\n",
    "theta_closed_formRidge = np.linalg.inv((X.T @ X)+(lmbda*I)) @ (X.T @ y)\n",
    "\n",
    "print(\"Closed-form Ridge coefficients:\", theta_closed_formOLS)\n",
    "print(\"Closed-form OLS coefficients:\", theta_closed_formRidge)\n"
   ]
  },
  {
   "cell_type": "markdown",
   "id": "00e279ef",
   "metadata": {
    "editable": true
   },
   "source": [
    "This code produces a dataset where only features 0, 1, and 6\n",
    "significantly influence $\\boldsymbol{y}$. The rest of the features have zero true\n",
    "coefficient. For example, feature 0 has\n",
    "a true weight of 5.0, feature 1 has -3.0, and feature 6 has 2.0, so\n",
    "the expected relationship is:"
   ]
  },
  {
   "cell_type": "markdown",
   "id": "c910b3f4",
   "metadata": {
    "editable": true
   },
   "source": [
    "$$\n",
    "y \\approx 5 \\times x_0 \\;-\\; 3 \\times x_1 \\;+\\; 2 \\times x_6 \\;+\\; \\text{noise}.\n",
    "$$"
   ]
  },
  {
   "cell_type": "markdown",
   "id": "89e6e040",
   "metadata": {
    "editable": true
   },
   "source": [
    "You can remove the noise if you wish to. \n",
    "\n",
    "Try to fit the above data set using OLS and Ridge regression with the analytical expressions and your own gradient descent codes.\n",
    "\n",
    "If everything worked correctly, the learned coefficients should be\n",
    "close to the true values [5.0, -3.0, 0.0, …, 2.0, …] that we used to\n",
    "generate the data. Keep in mind that due to regularization and noise,\n",
    "the learned values will not exactly equal the true ones, but they\n",
    "should be in the same ballpark.  Which method (OLS or Ridge) gives the best results?"
   ]
  },
  {
   "cell_type": "markdown",
   "id": "9b0b6645",
   "metadata": {},
   "source": [
    "Answer: I found the OLS to clearly outperform at GD but both analytical expressions was quite precise, with Rigde being slightly more precise."
   ]
  }
 ],
 "metadata": {
  "kernelspec": {
   "display_name": ".venv (3.13.7)",
   "language": "python",
   "name": "python3"
  },
  "language_info": {
   "codemirror_mode": {
    "name": "ipython",
    "version": 3
   },
   "file_extension": ".py",
   "mimetype": "text/x-python",
   "name": "python",
   "nbconvert_exporter": "python",
   "pygments_lexer": "ipython3",
   "version": "3.13.7"
  }
 },
 "nbformat": 4,
 "nbformat_minor": 5
}
